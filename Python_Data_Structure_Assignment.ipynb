{
  "nbformat": 4,
  "nbformat_minor": 0,
  "metadata": {
    "colab": {
      "provenance": []
    },
    "kernelspec": {
      "name": "python3",
      "display_name": "Python 3"
    },
    "language_info": {
      "name": "python"
    }
  },
  "cells": [
    {
      "cell_type": "markdown",
      "source": [
        "#**Theory Questions**"
      ],
      "metadata": {
        "id": "aKAoeuFP1nFm"
      }
    },
    {
      "cell_type": "markdown",
      "source": [
        "#**1.What are data structures, and why are they important?**\n",
        "\n",
        "-   Data structures are ways of organizing, storing, and managing data in a computer so that it can be accessed and modified efficiently. Think of them as containers or formats that help you arrange data logically, depending on what you want to do with it.\n",
        "\n",
        "\n",
        "-  **Importance of Data Structure**\n",
        "\n",
        "\n",
        "Efficiency: Different data structures allow for faster data access, insertion, deletion, and searching. Choosing the right one can drastically improve the speed of your programs.\n",
        "\n",
        "Organization: They help organize data in a way that reflects the real-world relationships and constraints of your problem.\n",
        "\n",
        "Reusability & Clarity: Using well-known data structures makes your code easier to understand and maintain.\n",
        "\n",
        "Algorithm Foundation: Many algorithms are built upon specific data structures; knowing them allows you to implement or use algorithms effectively.\n",
        "\n",
        "\n",
        "#**2. Explain the difference between mutable and immutable data types with examples?**\n",
        "-    **Mutable Data Types**\n",
        "Mutable objects can be changed after they are created. You can modify their content without creating a new object.\n",
        "\n",
        "Examples in Python: list, dict, set, most custom objects.\n",
        "\n",
        "-    **Immutable Data Types**\n",
        "Immutable objects cannot be changed once created. Any modification results in a new object being created.\n",
        "\n",
        "Examples in Python: int, float, bool, str, tuple, frozenset.\n",
        "\n",
        "#**3.What are the main differences between lists and tuples in Python?**\n",
        "\n",
        "**Mutability:**\n",
        "\n",
        "Lists are mutable, which means you can change, add, or remove elements after the list is created. Tuples are immutable, so once created, their elements cannot be changed.\n",
        "\n",
        "**Syntax:**\n",
        "\n",
        "Lists are created using square brackets, like [1, 2, 3].       \n",
        "Tuples are created with parentheses, like (1, 2, 3), although parentheses are sometimes optional.\n",
        "\n",
        "**Performance:**\n",
        "\n",
        "Tuples are generally faster than lists because they are immutable and have a fixed size.\n",
        "\n",
        "**Methods:**\n",
        "\n",
        "Lists have many built-in methods such as .append(), .remove(), and .sort().      \n",
        "Tuples have fewer methods available, mainly .count() and .index().\n",
        "\n",
        "**Use Cases:** Use lists when you need a collection that can change or grow over time.   \n",
        "Use tuples when you want a fixed collection that shouldn’t be modified, or to represent records with multiple fields.\n",
        "\n",
        "**Hashability:** Lists are not hashable, so they cannot be used as keys in dictionaries.   \n",
        "Tuples are hashable (as long as their elements are hashable), so they can be used as dictionary keys.\n",
        "\n",
        "**Memory:** Tuples usually consume less memory than lists because of their immutability.\n",
        "\n",
        "#**4.Describe how dictionaries store data?**\n",
        "-  A dictionary in Python is a collection of key-value pairs. Each key is unique and maps to a value, similar to how words in a real dictionary map to definitions.\n",
        "\n",
        "Under the hood, Python dictionaries use a data structure called a hash table to store these pairs efficiently.\n",
        "\n",
        "#**5.Why might you use a set instead of a list in Python?**\n",
        "\n",
        "-   Uniqueness: Sets only store unique elements, automatically eliminating duplicates. Lists, on the other hand, can contain duplicate values.\n",
        "\n",
        "-   Membership Testing: Sets are optimized for fast membership testing. Checking if an element exists in a set is significantly faster than doing the same in a list, especially for large collections.\n",
        "\n",
        "-   Mathematical Set Operations: Sets support mathematical operations like union, intersection, and difference, making them suitable for working with collections of data where these operations are needed. Lists do not directly support these operations.\n",
        "\n",
        "-   Order: Sets are unordered collections, meaning the order of elements is not preserved. Lists, on the other hand, are ordered, and you can access elements by their index. If the order of elements is not important, a set might be a better choice.\n",
        "\n",
        "-   Immutability: Set elements are immutable, meaning you cannot change the items after the set has been created. However, you can add or remove elements from the set. Lists are mutable and can be changed after creation.\n",
        "\n",
        "-   Memory Efficiency: Sets generally use less memory than lists because they do not store indexed data or duplicates. This makes sets more memory-efficient, especially for large collections.\n",
        "\n",
        "#**6.What is a string in Python, and how is it different from a list?**\n",
        "\n",
        "-   In Python, a string and a list are both sequences, but they are fundamentally different in purpose and behavior.\n",
        "\n",
        "A string is a sequence of characters, used to represent text.\n",
        "Each character has an index s[0] == 'h')\n",
        "Strings are immutable: they cannot be changed after creation\n",
        "Common string operations: slicing, concatenation, searching, etc.\n",
        "\n",
        "A list is a sequence of items, which can be of any data type, including numbers, strings, or even other lists.\n",
        "Lists are mutable: you can change elements, add, or remove items\n",
        "\n",
        "Lists can hold heterogeneous data (e.g., [1, \"apple\", True])\n",
        "\n",
        "| Feature           | String                                       | List                                     |\n",
        "| ----------------- | -------------------------------------------- | ---------------------------------------- |\n",
        "| Data type         | Sequence of **characters**                   | Sequence of **any objects**              |\n",
        "| Mutability        | **Immutable**                                | **Mutable**                              |\n",
        "| Syntax            | `\"hello\"` or `'hello'`                       | `[\"h\", \"e\", \"l\", \"l\", \"o\"]`              |\n",
        "| Use case          | Text                                         | Collections of items                     |\n",
        "| Change an element | Not allowed                                | Allowed                                |\n",
        "| Methods           | Text-specific (e.g., `.upper()`, `.split()`) | General-purpose (`.append()`, `.sort()`) |\n",
        "\n",
        "\n",
        "#**7.How do tuples ensure data integrity in Python?**\n",
        "\n",
        "-   Tuples in Python ensure data integrity primarily through their immutability. Once a tuple is created, its elements cannot be modified, added, or removed. This characteristic is crucial for maintaining the consistency and reliability of data, especially in scenarios where data should not change after initialization.\n",
        "\n",
        "The immutability of tuples prevents accidental or unauthorized modifications, thus safeguarding the integrity of the data. This makes tuples ideal for storing configuration settings, database connection parameters, or any data that should remain constant throughout the program's execution.\n",
        "Furthermore, since tuples are immutable, they can be used as keys in dictionaries, which require hashable objects. This capability is not available with mutable data structures like lists.\n",
        "\n",
        "#**8.What is a hash table, and how does it relate to dictionaries in Python?**\n",
        "\n",
        "-  A hash table is a data structure that provides fast insertion, deletion, and lookup of key-value pairs. It uses a hash function to convert keys into indices (also called hash codes) that determine where to store the corresponding values in an internal array.\n",
        "\n",
        "In Python, the built-in dict type is implemented using a hash table under the hood.\n",
        "\n",
        "Features of Python dict:\n",
        "Key Lookup: Average time complexity is O(1) for lookups, insertions, and deletions.\n",
        "\n",
        "Keys Must Be Hashable: Only immutable types like str, int, tuple, etc., can be used as keys (because they must be hashable).\n",
        "\n",
        "Collision Resolution: Python uses open addressing with a method called perturbation probing to resolve collisions.\n",
        "\n",
        "#**9.Can lists contain different data types in Python?**\n",
        "\n",
        "-   Yes, lists in Python 3 can contain different data types.\n",
        "\n",
        "Python lists are heterogeneous, meaning they can hold elements of varying types — such as integers, strings, floats, objects, or even other lists — all in the same list.\n",
        "\n",
        "#**10.Explain why strings are immutable in Python?**\n",
        "\n",
        "-   Strings are immutable in Python because once a string is created, its contents cannot be changed. Instead, any operation that appears to modify a string actually creates a new string object.\n",
        "\n",
        "**Reasons Why Strings Are Immutable in Python**:\n",
        "1. Hashability and Dictionary Keys\n",
        "2. Safety and Predictability\n",
        "3. Performance Optimization\n",
        "4. Thread Safety\n",
        "\n",
        "#**11.What advantages do dictionaries offer over lists for certain tasks?**\n",
        "\n",
        "-  Dictionaries offer several advantages over lists for specific tasks, especially when you need to associate keys with values or perform fast data retrieval.\n",
        "\n",
        "Advantages of Dictionaries Over Lists:\n",
        "1. Faster Lookups\n",
        "2. Key-Value Pairing\n",
        "3. No Need to Know Position\n",
        "4. Improved Readability\n",
        "5. Efficient Membership Testing\n",
        "\n",
        "| Feature                       | Dictionary  | List               |\n",
        "| ----------------------------- | ----------- | ------------------ |\n",
        "| Lookup Speed                  | Fast (O(1)) | Slow (O(n))        |\n",
        "| Key-Value Association         | Yes         | No                 |\n",
        "| Indexed by                    | Keys        | Position (indices) |\n",
        "| Membership Testing            | Fast        | Slower             |\n",
        "| Readability (structured data) | High        | Lower              |\n",
        "\n",
        "#**12.Describe a scenario where using a tuple would be preferable over a list?**\n",
        "\n",
        "-   Using a tuple is preferable over a list when you need a collection of values that should be immutable — that is, not changeable after creation. Tuples provide data integrity, are hashable (if their elements are also hashable), and can be used as dictionary keys or elements in a set, unlike lists.\n",
        "\n",
        "| Feature                | Tuple                  | List                     |\n",
        "| ---------------------- | ---------------------- | ------------------------ |\n",
        "| Mutability             | Immutable              | Mutable                  |\n",
        "| Hashable               | Yes (if elements are)  | No                       |\n",
        "| Use in dict/set as key | Yes                    | No                       |\n",
        "| Use case               | Fixed, structured data | Dynamic, changeable data |\n",
        "\n",
        "returning multiple values from a function, and the number and order of items won’t change.\n",
        "\n",
        "def get_student_info():\n",
        "    name = \"Nandini\"\n",
        "    grade = 90\n",
        "    return (name, grade)  # tuple used for structured, fixed-size return\n",
        "\n",
        "It expect exactly two values.\n",
        "It makes sense to treat the pair as a single, unchangeable result.\n",
        "\n",
        "#**13.How do sets handle duplicate values in Python?**\n",
        "\n",
        "-   In Python, sets automatically eliminate duplicate values.\n",
        "\n",
        "When we add elements to a set, only unique values are kept.\n",
        "If we try to add a duplicate, it is silently ignored.\n",
        "\n",
        "my_set = {1, 2, 3, 3, 4, 2}\n",
        "print(my_set)\n",
        "\n",
        "#Output\n",
        "{1, 2, 3, 4}\n",
        "Even though 3 and 2 were repeated, the set stores each element only once.\n",
        "\n",
        "| Feature          | Set Behavior                                   |\n",
        "| ---------------- | ---------------------------------------------- |\n",
        "| Duplicates       | Automatically removed                          |\n",
        "| Data structure   | Hash table                                     |\n",
        "| Order preserved? | No (in `set`), but yes in `dict` (Python 3.7+) |\n",
        "| Use case         | Store unique, unordered items                  |\n",
        "\n",
        "#**14.How does the “in” keyword work differently for lists and dictionaries?**\n",
        "\n",
        "-  ChatGPT said:\n",
        "The in keyword is used for membership testing in Python, but it behaves differently for lists and dictionaries.\n",
        "\n",
        "-   **in with Lists**\n",
        "Checks whether a value exists as an element in the list.\n",
        "Performs a linear search, so it has O(n) time complexity.\n",
        "\n",
        "-   **in with Dictionaries**\n",
        "Checks whether a key exists in the dictionary — not the value.\n",
        "Uses hashing, so it has O(1) average time complexity.\n",
        "\n",
        "#**15. Can you modify the elements of a tuple? Explain why or why not?**\n",
        "\n",
        "-   No, you cannot modify the elements of a tuple in Python. This is because tuples are immutable.\n",
        "\n",
        "Immutability means that once a tuple is created, its contents (i.e., the elements inside it) cannot be changed. This applies to:\n",
        "\n",
        "Adding or removing elements\n",
        "\n",
        "Reassigning values at specific positions\n",
        "\n",
        "**Why are tuples immutable?**\n",
        "\n",
        "Design choice: Tuples are intended to be used as fixed collections of items, like coordinates or constant sets of values.\n",
        "\n",
        "Hashability: Because tuples are immutable, they can be used as keys in dictionaries or elements of sets (as long as the elements inside the tuple are also immutable).\n",
        "\n",
        "Performance: Immutability can lead to slight performance improvements, especially when tuples are used as fixed-size records.\n",
        "\n",
        "#**16.What is a nested dictionary, and give an example of its use case?**\n",
        "\n",
        "-  A nested dictionary is a dictionary inside another dictionary. It allows you to store hierarchical or structured data in a way that’s easy to organize and access.\n",
        "\n",
        " Example Use Case: Storing Student Records\n",
        "Let’s say you want to keep track of multiple students, each with their own set of attributes like name, age, and grades.\n",
        "\n",
        "students = {\n",
        "    'student1': {\n",
        "        'name': 'Prity',\n",
        "        'age': 22,\n",
        "        'grades': {'math': 90, 'science': 85}\n",
        "    },\n",
        "    'student2': {\n",
        "        'name': 'Neha',\n",
        "        'age': 22,\n",
        "        'grades': {'math': 75, 'science': 80}\n",
        "    }\n",
        "}\n",
        "\n",
        "print(students['student1']['grades']['science'])  # Output: 85\n",
        "\n",
        "\n",
        "#**17.Describe the time complexity of accessing elements in a dictionary?**\n",
        "\n",
        "-  The time complexity of accessing elements in a dictionary in Python is generally:\n",
        "\n",
        "O(1) — Constant Time\n",
        "This means that accessing an element by its key (e.g., my_dict['key']) is done in constant time, regardless of the size of the dictionary.\n",
        "\n",
        " Why is it O(1)?\n",
        "Python dictionaries are implemented using hash tables. Here's how it works:\n",
        "\n",
        "When you access a key, Python computes its hash using the __hash__() method.\n",
        "\n",
        "That hash is used to directly locate the value's memory address.\n",
        "\n",
        "If there are no hash collisions, lookup is extremely fast — constant time.\n",
        "\n",
        "Caveats (When It’s Not O(1))\n",
        "Hash Collisions: If multiple keys produce the same hash, Python handles this with open addressing or chaining, which could degrade performance slightly.\n",
        "\n",
        "Worst Case: In theory, the worst-case time complexity is O(n) if many collisions occur — but this is very rare in practice due to Python’s excellent hash function and collision-handling mechanisms.\n",
        "\n",
        "Dictionaries are one of Python’s most optimized data structures for fast lookups — that's why they're used extensively.\n",
        "\n",
        "#**18.In what situations are lists preferred over dictionaries?**\n",
        "\n",
        "-  While both lists and dictionaries are versatile data structures in Python, they serve different purposes. Here’s when lists are preferred over dictionaries:\n",
        "\n",
        "**Situations Where Lists Are Preferred**\n",
        "1. Ordered Data Without Named Keys\n",
        "If your data is sequential and you don’t need to label each item, a list is more appropriate.\n",
        "2. When You Need to Maintain Insertion Order and Iterate by Index\n",
        "Lists are inherently ordered (since Python 3.7, so are dicts, but lists are optimized for sequential access).\n",
        "3. Simple Collections of Items\n",
        "For storing a collection of similar items (like strings, numbers, or objects), lists are more straightforward.\n",
        "4. When Indexing Is Sufficient\n",
        "If accessing elements by position (e.g., my_list[2]) works for your use case, there’s no need for the complexity of keys.\n",
        "5. Use in Stack or Queue Structures\n",
        "Lists support methods like .append(), .pop(), etc., making them ideal for stack (LIFO) or queue (FIFO) behavior.\n",
        "\n",
        "#**19.Why are dictionaries considered unordered, and how does that affect data retrieval?**\n",
        "\n",
        "-  Historically (prior to Python 3.6), dictionaries in Python did not preserve the insertion order of keys. The internal structure (a hash table) optimized for fast lookups, not for maintaining order. So when you iterated over a dictionary, the order of elements could appear random.\n",
        "\n",
        "Starting with:\n",
        "\n",
        "Python 3.6: Dictionaries started preserving insertion order as an implementation detail in CPython.\n",
        "\n",
        "Python 3.7+: Insertion order is guaranteed by the language specification.\n",
        "\n",
        "This means:\n",
        "\n",
        "Elements in a dictionary will appear in the order they were added.\n",
        "\n",
        "However, this does not mean they are sorted.\n",
        "\n",
        "So while modern dictionaries preserve insertion order, they’re still considered unordered in a traditional data structures sense — because their primary organization is based on keys and hashes, not positions.\n",
        "\n",
        "#**20.Explain the difference between a list and a dictionary in terms of data retrieval?**\n",
        "\n",
        "-  The main difference between a list and a dictionary in terms of data retrieval lies in how you access elements and how fast you can retrieve them.\n",
        "\n",
        "| Feature                | List                             | Dictionary              |\n",
        "| ---------------------- | -------------------------------- | ----------------------- |\n",
        "| Access by              | Index                            | Key                     |\n",
        "| Lookup time complexity | O(n) (by value), O(1) (by index) | O(1) (by key)           |\n",
        "| Use case               | Ordered collections              | Labeled/structured data |\n",
        "| Keys/Indices           | Implicit (0, 1, 2...)            | Explicit (custom keys)  |\n"
      ],
      "metadata": {
        "id": "xIM-V0n91uHX"
      }
    },
    {
      "cell_type": "markdown",
      "source": [
        "#**Practical Questions**"
      ],
      "metadata": {
        "id": "3csPg3TUonIj"
      }
    },
    {
      "cell_type": "code",
      "source": [
        "# 1.Write a code to create a string with your name and print it\n",
        "\n",
        "# Create a string with a name\n",
        "my_name = \"Nandini Chatterjee\"\n",
        "\n",
        "# Print the string\n",
        "print(\"My name is\", my_name)"
      ],
      "metadata": {
        "colab": {
          "base_uri": "https://localhost:8080/"
        },
        "id": "2QDBgcaPpS7d",
        "outputId": "a7fe1b63-3393-4c71-a9e9-9403b01db0d9"
      },
      "execution_count": null,
      "outputs": [
        {
          "output_type": "stream",
          "name": "stdout",
          "text": [
            "My name is Nandini Chatterjee\n"
          ]
        }
      ]
    },
    {
      "cell_type": "code",
      "source": [
        "# 2.Write a code to find the length of the string \"Hello World\"\n",
        "\n",
        "# Define the string\n",
        "my_string = \"Hello World\"\n",
        "\n",
        "# Find the length of the string\n",
        "length = len(my_string)\n",
        "\n",
        "# Print the length\n",
        "print(\"The length of the string is:\", length)"
      ],
      "metadata": {
        "colab": {
          "base_uri": "https://localhost:8080/"
        },
        "id": "434CCX_Fpta6",
        "outputId": "7e6a3e95-0e13-41dd-a0ec-e967d1af9565"
      },
      "execution_count": null,
      "outputs": [
        {
          "output_type": "stream",
          "name": "stdout",
          "text": [
            "The length of the string is: 11\n"
          ]
        }
      ]
    },
    {
      "cell_type": "code",
      "source": [
        "# 3.Write a code to slice the first 3 characters from the string \"Python Programming\"\n",
        "\n",
        "# Define the string\n",
        "text = \"Python Programming\"\n",
        "\n",
        "# Slice the first 3 characters\n",
        "sliced = text[:3]\n",
        "\n",
        "# Print the result\n",
        "print(\"First 3 characters:\", sliced)"
      ],
      "metadata": {
        "colab": {
          "base_uri": "https://localhost:8080/"
        },
        "id": "q7_WCIeUq0p5",
        "outputId": "8cb4a4f2-55b7-4faa-a87d-e869c2464590"
      },
      "execution_count": null,
      "outputs": [
        {
          "output_type": "stream",
          "name": "stdout",
          "text": [
            "First 3 characters: Pyt\n"
          ]
        }
      ]
    },
    {
      "cell_type": "code",
      "source": [
        "# 4.Write a code to convert the string \"hello\" to uppercase\n",
        "\n",
        "# Define the string\n",
        "text = \"hello\"\n",
        "\n",
        "# Convert to uppercase\n",
        "uppercase_text = text.upper()\n",
        "\n",
        "# Print the result\n",
        "print(uppercase_text)"
      ],
      "metadata": {
        "colab": {
          "base_uri": "https://localhost:8080/"
        },
        "id": "c-pHYlMzrGoF",
        "outputId": "8ecfd949-a042-4f74-cb19-e9642bfd3510"
      },
      "execution_count": null,
      "outputs": [
        {
          "output_type": "stream",
          "name": "stdout",
          "text": [
            "HELLO\n"
          ]
        }
      ]
    },
    {
      "cell_type": "code",
      "source": [
        "# 5.Write a code to replace the word \"apple\" with \"orange\" in the string \"I like apple\"\n",
        "\n",
        "# Define the string\n",
        "text = \"I like apple\"\n",
        "\n",
        "# Replace 'apple' with 'orange'\n",
        "new_text = text.replace(\"apple\", \"orange\")\n",
        "\n",
        "# Print the result\n",
        "print(new_text)"
      ],
      "metadata": {
        "colab": {
          "base_uri": "https://localhost:8080/"
        },
        "id": "5dkPhnJTrbc6",
        "outputId": "34c3e4db-9837-4e84-c6ca-74d028ee250b"
      },
      "execution_count": null,
      "outputs": [
        {
          "output_type": "stream",
          "name": "stdout",
          "text": [
            "I like orange\n"
          ]
        }
      ]
    },
    {
      "cell_type": "code",
      "source": [
        "# 6.Write a code to create a list with numbers 1 to 5 and print it\n",
        "\n",
        "# Create a list with numbers from 1 to 5\n",
        "numbers = [1, 2, 3, 4, 5]\n",
        "\n",
        "# Print the list\n",
        "print(numbers)"
      ],
      "metadata": {
        "colab": {
          "base_uri": "https://localhost:8080/"
        },
        "id": "lKZl493grl02",
        "outputId": "a24d892e-557e-4f23-e4b6-b3f6fdb8ef2a"
      },
      "execution_count": null,
      "outputs": [
        {
          "output_type": "stream",
          "name": "stdout",
          "text": [
            "[1, 2, 3, 4, 5]\n"
          ]
        }
      ]
    },
    {
      "cell_type": "code",
      "source": [
        "# 7.Write a code to append the number 10 to the list [1, 2, 3, 4]\n",
        "\n",
        "# Define the list\n",
        "numbers = [1, 2, 3, 4]\n",
        "\n",
        "# Append 10 to the list\n",
        "numbers.append(10)\n",
        "\n",
        "# Print the updated list\n",
        "print(numbers)"
      ],
      "metadata": {
        "colab": {
          "base_uri": "https://localhost:8080/"
        },
        "id": "_tDm-An_rvVt",
        "outputId": "559ca1dc-cd41-4018-b128-055a8f16732b"
      },
      "execution_count": null,
      "outputs": [
        {
          "output_type": "stream",
          "name": "stdout",
          "text": [
            "[1, 2, 3, 4, 10]\n"
          ]
        }
      ]
    },
    {
      "cell_type": "code",
      "source": [
        "# 8.Write a code to remove the number 3 from the list [1, 2, 3, 4, 5]\n",
        "\n",
        "# Define the list\n",
        "numbers = [1, 2, 3, 4, 5]\n",
        "\n",
        "# Remove the number 3\n",
        "numbers.remove(3)\n",
        "\n",
        "# Print the updated list\n",
        "print(numbers)"
      ],
      "metadata": {
        "colab": {
          "base_uri": "https://localhost:8080/"
        },
        "id": "g95TRQHbsEdm",
        "outputId": "78def3c2-dfed-465c-97de-94e4fd6dc1d0"
      },
      "execution_count": null,
      "outputs": [
        {
          "output_type": "stream",
          "name": "stdout",
          "text": [
            "[1, 2, 4, 5]\n"
          ]
        }
      ]
    },
    {
      "cell_type": "code",
      "source": [
        "# 9.Write a code to access the second element in the list ['a', 'b', 'c', 'd']\n",
        "\n",
        "# Define the list\n",
        "letters = ['a', 'b', 'c', 'd']\n",
        "\n",
        "# Access the second element (index 1)\n",
        "second_element = letters[1]\n",
        "\n",
        "# Print the second element\n",
        "print(second_element)"
      ],
      "metadata": {
        "colab": {
          "base_uri": "https://localhost:8080/"
        },
        "id": "xRfso9gpsOFO",
        "outputId": "53dfc3dd-dd28-4b02-f054-5f68845a2902"
      },
      "execution_count": null,
      "outputs": [
        {
          "output_type": "stream",
          "name": "stdout",
          "text": [
            "b\n"
          ]
        }
      ]
    },
    {
      "cell_type": "code",
      "source": [
        "# 10.Write a code to reverse the list [10, 20, 30, 40, 50]\n",
        "\n",
        "# Define the list\n",
        "numbers = [10, 20, 30, 40, 50]\n",
        "\n",
        "# Reverse the list\n",
        "numbers.reverse()\n",
        "\n",
        "# Print the reversed list\n",
        "print(numbers)"
      ],
      "metadata": {
        "colab": {
          "base_uri": "https://localhost:8080/"
        },
        "id": "lmRXSngRsXxV",
        "outputId": "59bf393f-a179-4622-f823-36dea38132c9"
      },
      "execution_count": null,
      "outputs": [
        {
          "output_type": "stream",
          "name": "stdout",
          "text": [
            "[50, 40, 30, 20, 10]\n"
          ]
        }
      ]
    },
    {
      "cell_type": "code",
      "source": [
        "# 11.Write a code to create a tuple with the elements 100, 200, 300 and print it\n",
        "\n",
        "# Create a tuple\n",
        "my_tuple = (100, 200, 300)\n",
        "\n",
        "# Print the tuple\n",
        "print(my_tuple)"
      ],
      "metadata": {
        "colab": {
          "base_uri": "https://localhost:8080/"
        },
        "id": "NlsdUOHksjtr",
        "outputId": "272c30b5-46e4-4927-bc40-766e70c6d8c4"
      },
      "execution_count": null,
      "outputs": [
        {
          "output_type": "stream",
          "name": "stdout",
          "text": [
            "(100, 200, 300)\n"
          ]
        }
      ]
    },
    {
      "cell_type": "code",
      "source": [
        "# 12.Write a code to access the second-to-last element of the tuple ('red', 'green', 'blue', 'yellow').\n",
        "\n",
        "# Define the tuple\n",
        "colors = ('red', 'green', 'blue', 'yellow')\n",
        "\n",
        "# Access the second-to-last element using negative indexing\n",
        "second_to_last = colors[-2]\n",
        "\n",
        "# Print the element\n",
        "print(second_to_last)"
      ],
      "metadata": {
        "colab": {
          "base_uri": "https://localhost:8080/"
        },
        "id": "QNcTSf-fs3DR",
        "outputId": "f189b73c-f4b2-4141-d0b4-8757e2042621"
      },
      "execution_count": null,
      "outputs": [
        {
          "output_type": "stream",
          "name": "stdout",
          "text": [
            "blue\n"
          ]
        }
      ]
    },
    {
      "cell_type": "code",
      "source": [
        "# 13. Write a code to find the minimum number in the tuple (10, 20, 5, 15)\n",
        "\n",
        "# Define the tuple\n",
        "numbers = (10, 20, 5, 15)\n",
        "\n",
        "# Find the minimum number\n",
        "minimum_number = min(numbers)\n",
        "\n",
        "# Print the minimum number\n",
        "print(\"Minimum number:\", minimum_number)"
      ],
      "metadata": {
        "colab": {
          "base_uri": "https://localhost:8080/"
        },
        "id": "eaPUl0A3tA1d",
        "outputId": "93ec1c65-be4e-4f17-a162-b75c8f47f804"
      },
      "execution_count": null,
      "outputs": [
        {
          "output_type": "stream",
          "name": "stdout",
          "text": [
            "Minimum number: 5\n"
          ]
        }
      ]
    },
    {
      "cell_type": "code",
      "source": [
        "# 14.Write a code to find the index of the element \"cat\" in the tuple ('dog', 'cat', 'rabbit')\n",
        "\n",
        "# Define the tuple\n",
        "animals = ('dog', 'cat', 'rabbit')\n",
        "\n",
        "# Find the index of 'cat'\n",
        "index_cat = animals.index('cat')\n",
        "\n",
        "# Print the index\n",
        "print(\"Index of 'cat':\", index_cat)"
      ],
      "metadata": {
        "colab": {
          "base_uri": "https://localhost:8080/"
        },
        "id": "xxYvFBmCwwF0",
        "outputId": "05644aad-def0-443f-867a-313eabc46164"
      },
      "execution_count": null,
      "outputs": [
        {
          "output_type": "stream",
          "name": "stdout",
          "text": [
            "Index of 'cat': 1\n"
          ]
        }
      ]
    },
    {
      "cell_type": "code",
      "source": [
        "# 15. Write a code to create a tuple containing three different fruits and check if \"kiwi\" is in it\n",
        "\n",
        "# Create a tuple with three fruits\n",
        "fruits = ('apple', 'kiwi', 'orange')\n",
        "\n",
        "# Check if 'kiwi' is in the tuple\n",
        "if 'kiwi' in fruits:\n",
        "    print(\"Kiwi is in the tuple.\")\n",
        "else:\n",
        "    print(\"Kiwi is not in the tuple.\")"
      ],
      "metadata": {
        "colab": {
          "base_uri": "https://localhost:8080/"
        },
        "id": "UN7rLqukxBA1",
        "outputId": "5933de17-eade-4cc9-d0f9-e8c2d5ace3d3"
      },
      "execution_count": null,
      "outputs": [
        {
          "output_type": "stream",
          "name": "stdout",
          "text": [
            "Kiwi is in the tuple.\n"
          ]
        }
      ]
    },
    {
      "cell_type": "code",
      "source": [
        "# 16.Write a code to create a set with the elements 'a', 'b', 'c' and print it.\n",
        "\n",
        "# Create a set\n",
        "my_set = {'a', 'b', 'c'}\n",
        "\n",
        "# Print the set\n",
        "print(my_set)"
      ],
      "metadata": {
        "colab": {
          "base_uri": "https://localhost:8080/"
        },
        "id": "dq3fchvBxKC3",
        "outputId": "21bc14e6-1886-46f3-8f1d-7c2d1b8a9041"
      },
      "execution_count": null,
      "outputs": [
        {
          "output_type": "stream",
          "name": "stdout",
          "text": [
            "{'b', 'a', 'c'}\n"
          ]
        }
      ]
    },
    {
      "cell_type": "code",
      "source": [
        "# 17.Write a code to clear all elements from the set {1, 2, 3, 4, 5}\n",
        "\n",
        "# Define the set\n",
        "my_set = {1, 2, 3, 4, 5}\n",
        "\n",
        "# Clear all elements from the set\n",
        "my_set.clear()\n",
        "\n",
        "# Print the cleared set\n",
        "print(my_set)"
      ],
      "metadata": {
        "colab": {
          "base_uri": "https://localhost:8080/"
        },
        "id": "m2YuStwTxWSb",
        "outputId": "fef8c999-d2be-462a-c7c8-25e1e9cff63e"
      },
      "execution_count": null,
      "outputs": [
        {
          "output_type": "stream",
          "name": "stdout",
          "text": [
            "set()\n"
          ]
        }
      ]
    },
    {
      "cell_type": "code",
      "source": [
        "# 18. Write a code to remove the element 4 from the set {1, 2, 3, 4}\n",
        "\n",
        "# Define the set\n",
        "my_set = {1, 2, 3, 4}\n",
        "\n",
        "# Remove the element 4\n",
        "my_set.remove(4)\n",
        "\n",
        "# Print the updated set\n",
        "print(my_set)"
      ],
      "metadata": {
        "colab": {
          "base_uri": "https://localhost:8080/"
        },
        "id": "NA4g25MKxmYj",
        "outputId": "014bf202-689a-4a29-e3a8-a576335783af"
      },
      "execution_count": null,
      "outputs": [
        {
          "output_type": "stream",
          "name": "stdout",
          "text": [
            "{1, 2, 3}\n"
          ]
        }
      ]
    },
    {
      "cell_type": "code",
      "source": [
        "# 19.Write a code to find the union of two sets {1, 2, 3} and {3, 4, 5}\n",
        "\n",
        "# Define the sets\n",
        "set1 = {1, 2, 3}\n",
        "set2 = {3, 4, 5}\n",
        "\n",
        "# Find the union\n",
        "union_set = set1.union(set2)\n",
        "\n",
        "# Print the result\n",
        "print(\"Union:\", union_set)"
      ],
      "metadata": {
        "colab": {
          "base_uri": "https://localhost:8080/"
        },
        "id": "dOxl-VbVyfB_",
        "outputId": "df60fe57-35cc-4775-8c6c-d443f67a1a96"
      },
      "execution_count": null,
      "outputs": [
        {
          "output_type": "stream",
          "name": "stdout",
          "text": [
            "Union: {1, 2, 3, 4, 5}\n"
          ]
        }
      ]
    },
    {
      "cell_type": "code",
      "source": [
        "# 20.Write a code to find the intersection of two sets {1, 2, 3} and {2, 3, 4}\n",
        "\n",
        "# Define the sets\n",
        "set1 = {1, 2, 3}\n",
        "set2 = {2, 3, 4}\n",
        "\n",
        "# Find the intersection\n",
        "intersection_set = set1.intersection(set2)\n",
        "\n",
        "# Print the result\n",
        "print(\"Intersection:\", intersection_set)"
      ],
      "metadata": {
        "colab": {
          "base_uri": "https://localhost:8080/"
        },
        "id": "2Eo47aIzymV1",
        "outputId": "662cac4c-6583-44ee-e01e-7e30d95527cb"
      },
      "execution_count": null,
      "outputs": [
        {
          "output_type": "stream",
          "name": "stdout",
          "text": [
            "Intersection: {2, 3}\n"
          ]
        }
      ]
    },
    {
      "cell_type": "code",
      "source": [
        "# 21.Write a code to create a dictionary with the keys \"name\", \"age\", and \"city\", and print it\n",
        "\n",
        "# Create a dictionary\n",
        "person = {\n",
        "    \"name\": \"Nandini\",\n",
        "    \"age\": 32,\n",
        "    \"city\": \"Siliguri\"\n",
        "}\n",
        "\n",
        "# Print the dictionary\n",
        "print(person)"
      ],
      "metadata": {
        "colab": {
          "base_uri": "https://localhost:8080/"
        },
        "id": "-b2FttapywS5",
        "outputId": "aa1417ff-830f-433d-e1d8-cfacf023ebf7"
      },
      "execution_count": null,
      "outputs": [
        {
          "output_type": "stream",
          "name": "stdout",
          "text": [
            "{'name': 'Nandini', 'age': 32, 'city': 'Siliguri'}\n"
          ]
        }
      ]
    },
    {
      "cell_type": "code",
      "source": [
        "# 22.Write a code to add a new key-value pair \"country\": \"USA\" to the dictionary {'name': 'John', 'age': 25}.\n",
        "\n",
        "# Define the dictionary\n",
        "person = {'name': 'John', 'age': 25}\n",
        "\n",
        "# Add a new key-value pair\n",
        "person['country'] = 'USA'\n",
        "\n",
        "# Print the updated dictionary\n",
        "print(person)"
      ],
      "metadata": {
        "colab": {
          "base_uri": "https://localhost:8080/"
        },
        "id": "Hb4Vig2uy9GK",
        "outputId": "772161a6-9cf0-44dd-ec44-c2c8a12561cc"
      },
      "execution_count": null,
      "outputs": [
        {
          "output_type": "stream",
          "name": "stdout",
          "text": [
            "{'name': 'John', 'age': 25, 'country': 'USA'}\n"
          ]
        }
      ]
    },
    {
      "cell_type": "code",
      "source": [
        "# 23.Write a code to access the value associated with the key \"name\" in the dictionary {'name': 'Alice', 'age': 30}\n",
        "\n",
        "# Define the dictionary\n",
        "person = {'name': 'Alice', 'age': 30}\n",
        "\n",
        "# Access the value associated with the key 'name'\n",
        "name_value = person['name']\n",
        "\n",
        "# Print the value\n",
        "print(\"Name:\", name_value)"
      ],
      "metadata": {
        "colab": {
          "base_uri": "https://localhost:8080/"
        },
        "id": "8_s9e-FzzaRd",
        "outputId": "06e49361-9a62-4c04-c664-d91a0d40fefe"
      },
      "execution_count": null,
      "outputs": [
        {
          "output_type": "stream",
          "name": "stdout",
          "text": [
            "Name: Alice\n"
          ]
        }
      ]
    },
    {
      "cell_type": "code",
      "source": [
        "# 24.Write a code to remove the key \"age\" from the dictionary {'name': 'Bob', 'age': 22, 'city': 'New York'}\n",
        "\n",
        "# Define the dictionary\n",
        "person = {'name': 'Bob', 'age': 22, 'city': 'New York'}\n",
        "\n",
        "# Remove the key 'age'\n",
        "person.pop('age')\n",
        "\n",
        "# Print the updated dictionary\n",
        "print(person)"
      ],
      "metadata": {
        "colab": {
          "base_uri": "https://localhost:8080/"
        },
        "id": "AjB1l1mAzlx2",
        "outputId": "9f1b83cd-2abf-4a5a-9265-f33a5b9aba53"
      },
      "execution_count": null,
      "outputs": [
        {
          "output_type": "stream",
          "name": "stdout",
          "text": [
            "{'name': 'Bob', 'city': 'New York'}\n"
          ]
        }
      ]
    },
    {
      "cell_type": "code",
      "source": [
        "# 25. Write a code to check if the key \"city\" exists in the dictionary {'name': 'Alice', 'city': 'Paris'}\n",
        "\n",
        "# Define the dictionary\n",
        "person = {'name': 'Alice', 'city': 'Paris'}\n",
        "\n",
        "# Check if 'city' key exists\n",
        "if 'city' in person:\n",
        "    print(\"Key 'city' exists in the dictionary.\")\n",
        "else:\n",
        "    print(\"Key 'city' does not exist in the dictionary.\")"
      ],
      "metadata": {
        "colab": {
          "base_uri": "https://localhost:8080/"
        },
        "id": "bPhdJNiqz0oi",
        "outputId": "6afa34da-aa89-4f81-9b8e-fed53688f74c"
      },
      "execution_count": null,
      "outputs": [
        {
          "output_type": "stream",
          "name": "stdout",
          "text": [
            "Key 'city' exists in the dictionary.\n"
          ]
        }
      ]
    },
    {
      "cell_type": "code",
      "source": [
        "# 26. Write a code to create a list, a tuple, and a dictionary, and print them all\n",
        "\n",
        "# Create a list\n",
        "my_list = [3, 4, 5]\n",
        "\n",
        "# Create a tuple\n",
        "my_tuple = ('a', 'b', 'c')\n",
        "\n",
        "# Create a dictionary\n",
        "my_dict = {'name': 'Nandini', 'age': 32}\n",
        "\n",
        "# Print them all\n",
        "print(\"List:\", my_list)\n",
        "print(\"Tuple:\", my_tuple)\n",
        "print(\"Dictionary:\", my_dict)"
      ],
      "metadata": {
        "colab": {
          "base_uri": "https://localhost:8080/"
        },
        "id": "qoRQ3-mEz9zp",
        "outputId": "e057452a-0678-4559-ecd8-947607db8399"
      },
      "execution_count": null,
      "outputs": [
        {
          "output_type": "stream",
          "name": "stdout",
          "text": [
            "List: [3, 4, 5]\n",
            "Tuple: ('a', 'b', 'c')\n",
            "Dictionary: {'name': 'Nandini', 'age': 32}\n"
          ]
        }
      ]
    },
    {
      "cell_type": "code",
      "source": [
        "# 27.Write a code to create a list of 5 random numbers between 1 and 100, sort it in ascending order, and print the result.(replaced)\n",
        "\n",
        "# Generate a list of 5 random numbers between 1 and 100\n",
        "random_numbers = [random.randint(1, 100) for _ in range(5)]\n",
        "\n",
        "# Sort the list in ascending order\n",
        "random_numbers.sort()\n",
        "\n",
        "# Print the sorted list\n",
        "print(\"Sorted random numbers:\", random_numbers)\n"
      ],
      "metadata": {
        "colab": {
          "base_uri": "https://localhost:8080/"
        },
        "id": "30Z8l3oM0K0T",
        "outputId": "463da0f2-05c5-4a7f-9057-72d6d18d0629"
      },
      "execution_count": null,
      "outputs": [
        {
          "output_type": "stream",
          "name": "stdout",
          "text": [
            "Sorted random numbers: [2, 7, 19, 62, 91]\n"
          ]
        }
      ]
    },
    {
      "cell_type": "code",
      "source": [
        "# 28.Write a code to create a list with strings and print the element at the third index\n",
        "\n",
        "# Create a list with strings\n",
        "my_list = ['apple', 'banana', 'cherry', 'date', 'elderberry']\n",
        "\n",
        "# Access and print the element at the third index\n",
        "print(\"Element at index 3:\", my_list[3])"
      ],
      "metadata": {
        "colab": {
          "base_uri": "https://localhost:8080/"
        },
        "id": "5DCfvQvX0cN7",
        "outputId": "3ca97d51-22d7-4ce1-acac-f9f822522354"
      },
      "execution_count": null,
      "outputs": [
        {
          "output_type": "stream",
          "name": "stdout",
          "text": [
            "Element at index 3: date\n"
          ]
        }
      ]
    },
    {
      "cell_type": "code",
      "source": [
        "# 29.Write a code to combine two dictionaries into one and print the result\n",
        "\n",
        "# Define two dictionaries\n",
        "dict1 = {'name': 'Nandini', 'age': 32}\n",
        "dict2 = {'city': 'Siliguri', 'country': 'India'}\n",
        "\n",
        "# Combine dictionaries (Python 3.9+)\n",
        "combined_dict = dict1 | dict2\n",
        "\n",
        "# Print the combined dictionary\n",
        "print(combined_dict)"
      ],
      "metadata": {
        "colab": {
          "base_uri": "https://localhost:8080/"
        },
        "id": "v9WKyGVk0tXU",
        "outputId": "10c30968-3afd-4a81-f003-dd220e547337"
      },
      "execution_count": null,
      "outputs": [
        {
          "output_type": "stream",
          "name": "stdout",
          "text": [
            "{'name': 'Nandini', 'age': 32, 'city': 'Siliguri', 'country': 'India'}\n"
          ]
        }
      ]
    },
    {
      "cell_type": "code",
      "source": [
        "# 30.Write a code to convert a list of strings into a set.\n",
        "\n",
        "# Define a list of strings\n",
        "string_list = ['apple', 'banana', 'apple', 'orange', 'banana']\n",
        "\n",
        "# Convert the list to a set to remove duplicates\n",
        "string_set = set(string_list)\n",
        "\n",
        "# Print the resulting set\n",
        "print(string_set)"
      ],
      "metadata": {
        "colab": {
          "base_uri": "https://localhost:8080/"
        },
        "id": "qltJ4dAK1Gww",
        "outputId": "cf40040d-6ff9-45ae-83df-fdc1434b9536"
      },
      "execution_count": null,
      "outputs": [
        {
          "output_type": "stream",
          "name": "stdout",
          "text": [
            "{'banana', 'apple', 'orange'}\n"
          ]
        }
      ]
    }
  ]
}